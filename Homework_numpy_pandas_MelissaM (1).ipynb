{
 "cells": [
  {
   "cell_type": "markdown",
   "metadata": {},
   "source": [
    "<h1>Homework 2</h1>\n",
    "In this notebook there are the activities related to the second homework and, as with the first homework, feel free to use the web to find the solutions to any of these problems. Also, the bonus questions are not mandatory but, if you happen to have the time, try them out too!<br>\n",
    "\n"
   ]
  },
  {
   "cell_type": "markdown",
   "metadata": {},
   "source": [
    "<h1>numpy</h1>\n",
    "Exercise 1: show that now you can import libraries by importing pandas, numpy and matplotlib."
   ]
  },
  {
   "cell_type": "code",
   "execution_count": 6,
   "metadata": {},
   "outputs": [],
   "source": [
    "import pandas as pd\n",
    "import numpy as np\n",
    "import matplotlib as matp"
   ]
  },
  {
   "cell_type": "code",
   "execution_count": 7,
   "metadata": {},
   "outputs": [
    {
     "data": {
      "text/plain": [
       "<module 'pandas' from 'C:\\\\Users\\\\melis\\\\anaconda3\\\\lib\\\\site-packages\\\\pandas\\\\__init__.py'>"
      ]
     },
     "execution_count": 7,
     "metadata": {},
     "output_type": "execute_result"
    }
   ],
   "source": [
    "pd"
   ]
  },
  {
   "cell_type": "code",
   "execution_count": 8,
   "metadata": {},
   "outputs": [
    {
     "data": {
      "text/plain": [
       "<module 'numpy' from 'C:\\\\Users\\\\melis\\\\anaconda3\\\\lib\\\\site-packages\\\\numpy\\\\__init__.py'>"
      ]
     },
     "execution_count": 8,
     "metadata": {},
     "output_type": "execute_result"
    }
   ],
   "source": [
    "np"
   ]
  },
  {
   "cell_type": "code",
   "execution_count": 9,
   "metadata": {},
   "outputs": [
    {
     "data": {
      "text/plain": [
       "<module 'matplotlib' from 'C:\\\\Users\\\\melis\\\\anaconda3\\\\lib\\\\site-packages\\\\matplotlib\\\\__init__.py'>"
      ]
     },
     "execution_count": 9,
     "metadata": {},
     "output_type": "execute_result"
    }
   ],
   "source": [
    "matp"
   ]
  },
  {
   "cell_type": "markdown",
   "metadata": {},
   "source": [
    "Exercise 2: Will the following code block work?  "
   ]
  },
  {
   "cell_type": "code",
   "execution_count": 10,
   "metadata": {},
   "outputs": [
    {
     "data": {
      "text/plain": [
       "array([[0.83015204, 0.60612729, 0.74573233],\n",
       "       [1.55848292, 1.45169061, 1.23168008],\n",
       "       [0.65207542, 1.28402823, 0.94813683]])"
      ]
     },
     "execution_count": 10,
     "metadata": {},
     "output_type": "execute_result"
    }
   ],
   "source": [
    "# This creates a 3x3 array of random numbers ranging from 0 to 1\n",
    "#ANSWER: this code will work because, although the arrays have different size, one of the dimensions' items has a value of 1\n",
    "array1 = np.random.random((3, 3))\n",
    "array2 = np.random.random((3, 1))\n",
    "\n",
    "np.add(array1,array2)"
   ]
  },
  {
   "cell_type": "markdown",
   "metadata": {},
   "source": [
    "Exercise 3: What about now?"
   ]
  },
  {
   "cell_type": "code",
   "execution_count": 11,
   "metadata": {},
   "outputs": [
    {
     "ename": "ValueError",
     "evalue": "operands could not be broadcast together with shapes (3,3) (3,2) ",
     "output_type": "error",
     "traceback": [
      "\u001b[1;31m---------------------------------------------------------------------------\u001b[0m",
      "\u001b[1;31mValueError\u001b[0m                                Traceback (most recent call last)",
      "Input \u001b[1;32mIn [11]\u001b[0m, in \u001b[0;36m<cell line: 5>\u001b[1;34m()\u001b[0m\n\u001b[0;32m      2\u001b[0m array3 \u001b[38;5;241m=\u001b[39m np\u001b[38;5;241m.\u001b[39mrandom\u001b[38;5;241m.\u001b[39mrandom((\u001b[38;5;241m3\u001b[39m, \u001b[38;5;241m3\u001b[39m))\n\u001b[0;32m      3\u001b[0m array4 \u001b[38;5;241m=\u001b[39m np\u001b[38;5;241m.\u001b[39mrandom\u001b[38;5;241m.\u001b[39mrandom((\u001b[38;5;241m3\u001b[39m, \u001b[38;5;241m2\u001b[39m))\n\u001b[1;32m----> 5\u001b[0m \u001b[43mnp\u001b[49m\u001b[38;5;241;43m.\u001b[39;49m\u001b[43madd\u001b[49m\u001b[43m(\u001b[49m\u001b[43marray3\u001b[49m\u001b[43m,\u001b[49m\u001b[43marray4\u001b[49m\u001b[43m)\u001b[49m\n",
      "\u001b[1;31mValueError\u001b[0m: operands could not be broadcast together with shapes (3,3) (3,2) "
     ]
    }
   ],
   "source": [
    "# This creates a 3x3 array of random numbers ranging from 0 to 1\n",
    "array3 = np.random.random((3, 3))\n",
    "array4 = np.random.random((3, 2))\n",
    "\n",
    "np.add(array3,array4)"
   ]
  },
  {
   "cell_type": "code",
   "execution_count": 12,
   "metadata": {},
   "outputs": [
    {
     "data": {
      "text/plain": [
       "array([[0.04249108, 0.46453865, 0.40868492],\n",
       "       [0.56390641, 0.84127704, 0.66341858],\n",
       "       [0.396626  , 0.20610405, 0.04837571]])"
      ]
     },
     "execution_count": 12,
     "metadata": {},
     "output_type": "execute_result"
    }
   ],
   "source": [
    "array3"
   ]
  },
  {
   "cell_type": "code",
   "execution_count": 13,
   "metadata": {},
   "outputs": [
    {
     "data": {
      "text/plain": [
       "array([[0.59654218, 0.56381284],\n",
       "       [0.75289399, 0.87717302],\n",
       "       [0.58226801, 0.3990749 ]])"
      ]
     },
     "execution_count": 13,
     "metadata": {},
     "output_type": "execute_result"
    }
   ],
   "source": [
    "array4"
   ]
  },
  {
   "cell_type": "markdown",
   "metadata": {},
   "source": [
    "Exercise 4: by inspecting the arrays 1 to 4 can you figure out why one operation worked and another one didn't? (hint: check their values and shape)"
   ]
  },
  {
   "cell_type": "code",
   "execution_count": null,
   "metadata": {},
   "outputs": [],
   "source": [
    "# According to Numpy documentation (broadcasting rules), two arrays are compatible when their dimensions are equal (i.e. a[3,3] and b[3,3]) or one of them\n",
    "#is 1. In exercise 2, array2 has a dimension with value 1, therefore, it its compatible with array1 and the addition is possible\n",
    "# In exercise 3,however, the arrays have different shapes and none of their dimensions is 1, indicating that the arrays are incompatible.  "
   ]
  },
  {
   "cell_type": "code",
   "execution_count": null,
   "metadata": {},
   "outputs": [],
   "source": [
    "#reference: https://numpy.org/doc/stable/user/basics.broadcasting.html ; https://www.statology.org/operands-could-not-be-broadcast-together-with-shapes/"
   ]
  },
  {
   "cell_type": "markdown",
   "metadata": {},
   "source": [
    "Exercise 5: Using the function to create an array of random numbers [np.random.random](https://numpy.org/doc/stable/reference/random/generated/numpy.random.random.html) how can you modify the code (as in the cells above) so that the numbers will vary between 0 and 100 instead of 0 and 1? And how can you modify the shape of the function?"
   ]
  },
  {
   "cell_type": "code",
   "execution_count": 14,
   "metadata": {},
   "outputs": [
    {
     "data": {
      "text/plain": [
       "<module 'numpy.random' from 'C:\\\\Users\\\\melis\\\\anaconda3\\\\lib\\\\site-packages\\\\numpy\\\\random\\\\__init__.py'>"
      ]
     },
     "execution_count": 14,
     "metadata": {},
     "output_type": "execute_result"
    }
   ],
   "source": [
    "# To create an array with random numbers from 1 to 100: \n",
    "from numpy import random \n",
    "random"
   ]
  },
  {
   "cell_type": "code",
   "execution_count": 111,
   "metadata": {},
   "outputs": [
    {
     "data": {
      "text/plain": [
       "array([[31,  2],\n",
       "       [25, 12],\n",
       "       [74, 78]])"
      ]
     },
     "execution_count": 111,
     "metadata": {},
     "output_type": "execute_result"
    }
   ],
   "source": [
    "# To create an array with random numbers from 1 to 100:\n",
    "array4 = random.randint(100, size=(3,2))\n",
    "array4"
   ]
  },
  {
   "cell_type": "code",
   "execution_count": 112,
   "metadata": {
    "scrolled": false
   },
   "outputs": [
    {
     "data": {
      "text/plain": [
       "array([[31,  2, 25],\n",
       "       [12, 74, 78]])"
      ]
     },
     "execution_count": 112,
     "metadata": {},
     "output_type": "execute_result"
    }
   ],
   "source": [
    "#to change the shape of array4:\n",
    "new_array4 = array4.reshape(2,3) \n",
    "new_array4"
   ]
  },
  {
   "cell_type": "code",
   "execution_count": null,
   "metadata": {},
   "outputs": [],
   "source": [
    "#QUESTION: given the actual sizes of both arrays, is there any method to add array3+array4? I tried to broadcast array4\n",
    "# but still got an error."
   ]
  },
  {
   "cell_type": "markdown",
   "metadata": {},
   "source": [
    "Exercise 6: Using the array defined on the exercise above, use [np.where](https://numpy.org/doc/stable/reference/generated/numpy.where.html) to find the positions the values that are larger than 50 (or feel free to pick any other number)."
   ]
  },
  {
   "cell_type": "code",
   "execution_count": 113,
   "metadata": {},
   "outputs": [],
   "source": [
    "import numpy as np"
   ]
  },
  {
   "cell_type": "code",
   "execution_count": 116,
   "metadata": {},
   "outputs": [
    {
     "data": {
      "text/plain": [
       "(array([1, 1], dtype=int64), array([1, 2], dtype=int64))"
      ]
     },
     "execution_count": 116,
     "metadata": {},
     "output_type": "execute_result"
    }
   ],
   "source": [
    "np.where(new_array4>50)         #QUESTION: why does this code line have two arrays on its output?"
   ]
  },
  {
   "cell_type": "markdown",
   "metadata": {},
   "source": [
    "<h1>Pandas </h1>\n",
    "There are two datasets on available to this work, one is the pokemon dataset we explored in the lecture and the other one is the same dataframe but, for the sake of a nice story, let us say it was sabotaged by team rocket.\n",
    "\n",
    "Exercise 1: open both dataframes supplied using [pd.read_csv](https://pandas.pydata.org/docs/reference/api/pandas.read_csv.html) (and don't forget to assign them to different objects)."
   ]
  },
  {
   "cell_type": "code",
   "execution_count": 19,
   "metadata": {
    "scrolled": true
   },
   "outputs": [
    {
     "data": {
      "text/plain": [
       "<module 'pandas' from 'C:\\\\Users\\\\melis\\\\anaconda3\\\\lib\\\\site-packages\\\\pandas\\\\__init__.py'>"
      ]
     },
     "execution_count": 19,
     "metadata": {},
     "output_type": "execute_result"
    }
   ],
   "source": [
    "import pandas as pd\n",
    "import matplotlib.pyplot as plt \n",
    "pd"
   ]
  },
  {
   "cell_type": "code",
   "execution_count": 20,
   "metadata": {},
   "outputs": [
    {
     "data": {
      "text/plain": [
       "<module 'matplotlib.pyplot' from 'C:\\\\Users\\\\melis\\\\anaconda3\\\\lib\\\\site-packages\\\\matplotlib\\\\pyplot.py'>"
      ]
     },
     "execution_count": 20,
     "metadata": {},
     "output_type": "execute_result"
    }
   ],
   "source": [
    "plt"
   ]
  },
  {
   "cell_type": "code",
   "execution_count": 21,
   "metadata": {
    "scrolled": true
   },
   "outputs": [
    {
     "data": {
      "text/html": [
       "<div>\n",
       "<style scoped>\n",
       "    .dataframe tbody tr th:only-of-type {\n",
       "        vertical-align: middle;\n",
       "    }\n",
       "\n",
       "    .dataframe tbody tr th {\n",
       "        vertical-align: top;\n",
       "    }\n",
       "\n",
       "    .dataframe thead th {\n",
       "        text-align: right;\n",
       "    }\n",
       "</style>\n",
       "<table border=\"1\" class=\"dataframe\">\n",
       "  <thead>\n",
       "    <tr style=\"text-align: right;\">\n",
       "      <th></th>\n",
       "      <th>#</th>\n",
       "      <th>Name</th>\n",
       "      <th>Type 1</th>\n",
       "      <th>Type 2</th>\n",
       "      <th>Total</th>\n",
       "      <th>HP</th>\n",
       "      <th>Attack</th>\n",
       "      <th>Defense</th>\n",
       "      <th>Sp. Atk</th>\n",
       "      <th>Sp. Def</th>\n",
       "      <th>Speed</th>\n",
       "      <th>Generation</th>\n",
       "      <th>Legendary</th>\n",
       "    </tr>\n",
       "  </thead>\n",
       "  <tbody>\n",
       "    <tr>\n",
       "      <th>0</th>\n",
       "      <td>1</td>\n",
       "      <td>Bulbasaur</td>\n",
       "      <td>Grass</td>\n",
       "      <td>Poison</td>\n",
       "      <td>318</td>\n",
       "      <td>45</td>\n",
       "      <td>49</td>\n",
       "      <td>49</td>\n",
       "      <td>65</td>\n",
       "      <td>65</td>\n",
       "      <td>45</td>\n",
       "      <td>1</td>\n",
       "      <td>False</td>\n",
       "    </tr>\n",
       "    <tr>\n",
       "      <th>1</th>\n",
       "      <td>2</td>\n",
       "      <td>Ivysaur</td>\n",
       "      <td>Grass</td>\n",
       "      <td>Poison</td>\n",
       "      <td>405</td>\n",
       "      <td>60</td>\n",
       "      <td>62</td>\n",
       "      <td>63</td>\n",
       "      <td>80</td>\n",
       "      <td>80</td>\n",
       "      <td>60</td>\n",
       "      <td>1</td>\n",
       "      <td>False</td>\n",
       "    </tr>\n",
       "    <tr>\n",
       "      <th>2</th>\n",
       "      <td>3</td>\n",
       "      <td>Venusaur</td>\n",
       "      <td>Grass</td>\n",
       "      <td>Poison</td>\n",
       "      <td>525</td>\n",
       "      <td>80</td>\n",
       "      <td>82</td>\n",
       "      <td>83</td>\n",
       "      <td>100</td>\n",
       "      <td>100</td>\n",
       "      <td>80</td>\n",
       "      <td>1</td>\n",
       "      <td>False</td>\n",
       "    </tr>\n",
       "    <tr>\n",
       "      <th>3</th>\n",
       "      <td>3</td>\n",
       "      <td>VenusaurMega Venusaur</td>\n",
       "      <td>Grass</td>\n",
       "      <td>Poison</td>\n",
       "      <td>625</td>\n",
       "      <td>80</td>\n",
       "      <td>100</td>\n",
       "      <td>123</td>\n",
       "      <td>122</td>\n",
       "      <td>120</td>\n",
       "      <td>80</td>\n",
       "      <td>1</td>\n",
       "      <td>False</td>\n",
       "    </tr>\n",
       "    <tr>\n",
       "      <th>4</th>\n",
       "      <td>4</td>\n",
       "      <td>Charmander</td>\n",
       "      <td>Fire</td>\n",
       "      <td>NaN</td>\n",
       "      <td>309</td>\n",
       "      <td>39</td>\n",
       "      <td>52</td>\n",
       "      <td>43</td>\n",
       "      <td>60</td>\n",
       "      <td>50</td>\n",
       "      <td>65</td>\n",
       "      <td>1</td>\n",
       "      <td>False</td>\n",
       "    </tr>\n",
       "    <tr>\n",
       "      <th>...</th>\n",
       "      <td>...</td>\n",
       "      <td>...</td>\n",
       "      <td>...</td>\n",
       "      <td>...</td>\n",
       "      <td>...</td>\n",
       "      <td>...</td>\n",
       "      <td>...</td>\n",
       "      <td>...</td>\n",
       "      <td>...</td>\n",
       "      <td>...</td>\n",
       "      <td>...</td>\n",
       "      <td>...</td>\n",
       "      <td>...</td>\n",
       "    </tr>\n",
       "    <tr>\n",
       "      <th>795</th>\n",
       "      <td>719</td>\n",
       "      <td>Diancie</td>\n",
       "      <td>Rock</td>\n",
       "      <td>Fairy</td>\n",
       "      <td>600</td>\n",
       "      <td>50</td>\n",
       "      <td>100</td>\n",
       "      <td>150</td>\n",
       "      <td>100</td>\n",
       "      <td>150</td>\n",
       "      <td>50</td>\n",
       "      <td>6</td>\n",
       "      <td>True</td>\n",
       "    </tr>\n",
       "    <tr>\n",
       "      <th>796</th>\n",
       "      <td>719</td>\n",
       "      <td>DiancieMega Diancie</td>\n",
       "      <td>Rock</td>\n",
       "      <td>Fairy</td>\n",
       "      <td>700</td>\n",
       "      <td>50</td>\n",
       "      <td>160</td>\n",
       "      <td>110</td>\n",
       "      <td>160</td>\n",
       "      <td>110</td>\n",
       "      <td>110</td>\n",
       "      <td>6</td>\n",
       "      <td>True</td>\n",
       "    </tr>\n",
       "    <tr>\n",
       "      <th>797</th>\n",
       "      <td>720</td>\n",
       "      <td>HoopaHoopa Confined</td>\n",
       "      <td>Psychic</td>\n",
       "      <td>Ghost</td>\n",
       "      <td>600</td>\n",
       "      <td>80</td>\n",
       "      <td>110</td>\n",
       "      <td>60</td>\n",
       "      <td>150</td>\n",
       "      <td>130</td>\n",
       "      <td>70</td>\n",
       "      <td>6</td>\n",
       "      <td>True</td>\n",
       "    </tr>\n",
       "    <tr>\n",
       "      <th>798</th>\n",
       "      <td>720</td>\n",
       "      <td>HoopaHoopa Unbound</td>\n",
       "      <td>Psychic</td>\n",
       "      <td>Dark</td>\n",
       "      <td>680</td>\n",
       "      <td>80</td>\n",
       "      <td>160</td>\n",
       "      <td>60</td>\n",
       "      <td>170</td>\n",
       "      <td>130</td>\n",
       "      <td>80</td>\n",
       "      <td>6</td>\n",
       "      <td>True</td>\n",
       "    </tr>\n",
       "    <tr>\n",
       "      <th>799</th>\n",
       "      <td>721</td>\n",
       "      <td>Volcanion</td>\n",
       "      <td>Fire</td>\n",
       "      <td>Water</td>\n",
       "      <td>600</td>\n",
       "      <td>80</td>\n",
       "      <td>110</td>\n",
       "      <td>120</td>\n",
       "      <td>130</td>\n",
       "      <td>90</td>\n",
       "      <td>70</td>\n",
       "      <td>6</td>\n",
       "      <td>True</td>\n",
       "    </tr>\n",
       "  </tbody>\n",
       "</table>\n",
       "<p>800 rows × 13 columns</p>\n",
       "</div>"
      ],
      "text/plain": [
       "       #                   Name   Type 1  Type 2  Total  HP  Attack  Defense  \\\n",
       "0      1              Bulbasaur    Grass  Poison    318  45      49       49   \n",
       "1      2                Ivysaur    Grass  Poison    405  60      62       63   \n",
       "2      3               Venusaur    Grass  Poison    525  80      82       83   \n",
       "3      3  VenusaurMega Venusaur    Grass  Poison    625  80     100      123   \n",
       "4      4             Charmander     Fire     NaN    309  39      52       43   \n",
       "..   ...                    ...      ...     ...    ...  ..     ...      ...   \n",
       "795  719                Diancie     Rock   Fairy    600  50     100      150   \n",
       "796  719    DiancieMega Diancie     Rock   Fairy    700  50     160      110   \n",
       "797  720    HoopaHoopa Confined  Psychic   Ghost    600  80     110       60   \n",
       "798  720     HoopaHoopa Unbound  Psychic    Dark    680  80     160       60   \n",
       "799  721              Volcanion     Fire   Water    600  80     110      120   \n",
       "\n",
       "     Sp. Atk  Sp. Def  Speed  Generation  Legendary  \n",
       "0         65       65     45           1      False  \n",
       "1         80       80     60           1      False  \n",
       "2        100      100     80           1      False  \n",
       "3        122      120     80           1      False  \n",
       "4         60       50     65           1      False  \n",
       "..       ...      ...    ...         ...        ...  \n",
       "795      100      150     50           6       True  \n",
       "796      160      110    110           6       True  \n",
       "797      150      130     70           6       True  \n",
       "798      170      130     80           6       True  \n",
       "799      130       90     70           6       True  \n",
       "\n",
       "[800 rows x 13 columns]"
      ]
     },
     "execution_count": 21,
     "metadata": {},
     "output_type": "execute_result"
    }
   ],
   "source": [
    "pokemon_df = pd.read_csv('Pokemon.csv')\n",
    "pokemon_df"
   ]
  },
  {
   "cell_type": "code",
   "execution_count": 22,
   "metadata": {},
   "outputs": [
    {
     "data": {
      "text/html": [
       "<div>\n",
       "<style scoped>\n",
       "    .dataframe tbody tr th:only-of-type {\n",
       "        vertical-align: middle;\n",
       "    }\n",
       "\n",
       "    .dataframe tbody tr th {\n",
       "        vertical-align: top;\n",
       "    }\n",
       "\n",
       "    .dataframe thead th {\n",
       "        text-align: right;\n",
       "    }\n",
       "</style>\n",
       "<table border=\"1\" class=\"dataframe\">\n",
       "  <thead>\n",
       "    <tr style=\"text-align: right;\">\n",
       "      <th></th>\n",
       "      <th>#</th>\n",
       "      <th>Name</th>\n",
       "      <th>Type 1</th>\n",
       "      <th>Type 2</th>\n",
       "      <th>Total</th>\n",
       "      <th>HP</th>\n",
       "      <th>Attack</th>\n",
       "      <th>Defense</th>\n",
       "      <th>Sp. Atk</th>\n",
       "      <th>Sp. Def</th>\n",
       "      <th>Speed</th>\n",
       "      <th>Generation</th>\n",
       "      <th>Legendary</th>\n",
       "    </tr>\n",
       "  </thead>\n",
       "  <tbody>\n",
       "    <tr>\n",
       "      <th>0</th>\n",
       "      <td>1</td>\n",
       "      <td>Bulbasaur</td>\n",
       "      <td>Grass</td>\n",
       "      <td>Poison</td>\n",
       "      <td>318</td>\n",
       "      <td>45.0</td>\n",
       "      <td>49</td>\n",
       "      <td>49.0</td>\n",
       "      <td>65</td>\n",
       "      <td>65.0</td>\n",
       "      <td>45.0</td>\n",
       "      <td>1</td>\n",
       "      <td>False</td>\n",
       "    </tr>\n",
       "    <tr>\n",
       "      <th>1</th>\n",
       "      <td>2</td>\n",
       "      <td>Ivysaur</td>\n",
       "      <td>Grass</td>\n",
       "      <td>Poison</td>\n",
       "      <td>405</td>\n",
       "      <td>60.0</td>\n",
       "      <td>62</td>\n",
       "      <td>63.0</td>\n",
       "      <td>80</td>\n",
       "      <td>80.0</td>\n",
       "      <td>60.0</td>\n",
       "      <td>1</td>\n",
       "      <td>False</td>\n",
       "    </tr>\n",
       "    <tr>\n",
       "      <th>2</th>\n",
       "      <td>3</td>\n",
       "      <td>Venusaur</td>\n",
       "      <td>Grass</td>\n",
       "      <td>Poison</td>\n",
       "      <td>525</td>\n",
       "      <td>80.0</td>\n",
       "      <td>82</td>\n",
       "      <td>83.0</td>\n",
       "      <td>100</td>\n",
       "      <td>100.0</td>\n",
       "      <td>80.0</td>\n",
       "      <td>1</td>\n",
       "      <td>False</td>\n",
       "    </tr>\n",
       "    <tr>\n",
       "      <th>3</th>\n",
       "      <td>3</td>\n",
       "      <td>VenusaurMega Venusaur</td>\n",
       "      <td>Grass</td>\n",
       "      <td>Poison</td>\n",
       "      <td>625</td>\n",
       "      <td>80.0</td>\n",
       "      <td>100</td>\n",
       "      <td>123.0</td>\n",
       "      <td>122</td>\n",
       "      <td>120.0</td>\n",
       "      <td>80.0</td>\n",
       "      <td>1</td>\n",
       "      <td>False</td>\n",
       "    </tr>\n",
       "    <tr>\n",
       "      <th>4</th>\n",
       "      <td>4</td>\n",
       "      <td>Charmander</td>\n",
       "      <td>Fire</td>\n",
       "      <td>NaN</td>\n",
       "      <td>309</td>\n",
       "      <td>39.0</td>\n",
       "      <td>52</td>\n",
       "      <td>43.0</td>\n",
       "      <td>60</td>\n",
       "      <td>50.0</td>\n",
       "      <td>65.0</td>\n",
       "      <td>1</td>\n",
       "      <td>False</td>\n",
       "    </tr>\n",
       "    <tr>\n",
       "      <th>...</th>\n",
       "      <td>...</td>\n",
       "      <td>...</td>\n",
       "      <td>...</td>\n",
       "      <td>...</td>\n",
       "      <td>...</td>\n",
       "      <td>...</td>\n",
       "      <td>...</td>\n",
       "      <td>...</td>\n",
       "      <td>...</td>\n",
       "      <td>...</td>\n",
       "      <td>...</td>\n",
       "      <td>...</td>\n",
       "      <td>...</td>\n",
       "    </tr>\n",
       "    <tr>\n",
       "      <th>795</th>\n",
       "      <td>719</td>\n",
       "      <td>Diancie</td>\n",
       "      <td>Rock</td>\n",
       "      <td>Fairy</td>\n",
       "      <td>600</td>\n",
       "      <td>50.0</td>\n",
       "      <td>100</td>\n",
       "      <td>150.0</td>\n",
       "      <td>100</td>\n",
       "      <td>150.0</td>\n",
       "      <td>50.0</td>\n",
       "      <td>6</td>\n",
       "      <td>True</td>\n",
       "    </tr>\n",
       "    <tr>\n",
       "      <th>796</th>\n",
       "      <td>719</td>\n",
       "      <td>DiancieMega Diancie</td>\n",
       "      <td>Rock</td>\n",
       "      <td>Fairy</td>\n",
       "      <td>700</td>\n",
       "      <td>50.0</td>\n",
       "      <td>160</td>\n",
       "      <td>110.0</td>\n",
       "      <td>160</td>\n",
       "      <td>110.0</td>\n",
       "      <td>110.0</td>\n",
       "      <td>6</td>\n",
       "      <td>True</td>\n",
       "    </tr>\n",
       "    <tr>\n",
       "      <th>797</th>\n",
       "      <td>720</td>\n",
       "      <td>HoopaHoopa Confined</td>\n",
       "      <td>Psychic</td>\n",
       "      <td>Ghost</td>\n",
       "      <td>600</td>\n",
       "      <td>80.0</td>\n",
       "      <td>110</td>\n",
       "      <td>60.0</td>\n",
       "      <td>150</td>\n",
       "      <td>130.0</td>\n",
       "      <td>70.0</td>\n",
       "      <td>6</td>\n",
       "      <td>True</td>\n",
       "    </tr>\n",
       "    <tr>\n",
       "      <th>798</th>\n",
       "      <td>720</td>\n",
       "      <td>HoopaHoopa Unbound</td>\n",
       "      <td>Psychic</td>\n",
       "      <td>Dark</td>\n",
       "      <td>680</td>\n",
       "      <td>80.0</td>\n",
       "      <td>160</td>\n",
       "      <td>60.0</td>\n",
       "      <td>170</td>\n",
       "      <td>130.0</td>\n",
       "      <td>80.0</td>\n",
       "      <td>6</td>\n",
       "      <td>True</td>\n",
       "    </tr>\n",
       "    <tr>\n",
       "      <th>799</th>\n",
       "      <td>721</td>\n",
       "      <td>Volcanion</td>\n",
       "      <td>Fire</td>\n",
       "      <td>Water</td>\n",
       "      <td>600</td>\n",
       "      <td>80.0</td>\n",
       "      <td>110</td>\n",
       "      <td>120.0</td>\n",
       "      <td>130</td>\n",
       "      <td>90.0</td>\n",
       "      <td>70.0</td>\n",
       "      <td>6</td>\n",
       "      <td>True</td>\n",
       "    </tr>\n",
       "  </tbody>\n",
       "</table>\n",
       "<p>800 rows × 13 columns</p>\n",
       "</div>"
      ],
      "text/plain": [
       "       #                   Name   Type 1  Type 2  Total    HP  Attack  \\\n",
       "0      1              Bulbasaur    Grass  Poison    318  45.0      49   \n",
       "1      2                Ivysaur    Grass  Poison    405  60.0      62   \n",
       "2      3               Venusaur    Grass  Poison    525  80.0      82   \n",
       "3      3  VenusaurMega Venusaur    Grass  Poison    625  80.0     100   \n",
       "4      4             Charmander     Fire     NaN    309  39.0      52   \n",
       "..   ...                    ...      ...     ...    ...   ...     ...   \n",
       "795  719                Diancie     Rock   Fairy    600  50.0     100   \n",
       "796  719    DiancieMega Diancie     Rock   Fairy    700  50.0     160   \n",
       "797  720    HoopaHoopa Confined  Psychic   Ghost    600  80.0     110   \n",
       "798  720     HoopaHoopa Unbound  Psychic    Dark    680  80.0     160   \n",
       "799  721              Volcanion     Fire   Water    600  80.0     110   \n",
       "\n",
       "     Defense  Sp. Atk  Sp. Def  Speed  Generation  Legendary  \n",
       "0       49.0       65     65.0   45.0           1      False  \n",
       "1       63.0       80     80.0   60.0           1      False  \n",
       "2       83.0      100    100.0   80.0           1      False  \n",
       "3      123.0      122    120.0   80.0           1      False  \n",
       "4       43.0       60     50.0   65.0           1      False  \n",
       "..       ...      ...      ...    ...         ...        ...  \n",
       "795    150.0      100    150.0   50.0           6       True  \n",
       "796    110.0      160    110.0  110.0           6       True  \n",
       "797     60.0      150    130.0   70.0           6       True  \n",
       "798     60.0      170    130.0   80.0           6       True  \n",
       "799    120.0      130     90.0   70.0           6       True  \n",
       "\n",
       "[800 rows x 13 columns]"
      ]
     },
     "execution_count": 22,
     "metadata": {},
     "output_type": "execute_result"
    }
   ],
   "source": [
    "pokemonsbg_df = pd.read_csv('Pokemon_sabotage.csv')\n",
    "pokemonsbg_df"
   ]
  },
  {
   "cell_type": "markdown",
   "metadata": {},
   "source": [
    "Exercise 2: Using [pd.isna](https://pandas.pydata.org/docs/reference/api/pandas.DataFrame.isna.html) check how many missing numbers are in each dataframe."
   ]
  },
  {
   "cell_type": "code",
   "execution_count": 23,
   "metadata": {
    "scrolled": true
   },
   "outputs": [
    {
     "data": {
      "text/plain": [
       "<bound method DataFrame.isna of        #                   Name   Type 1  Type 2  Total  HP  Attack  Defense  \\\n",
       "0      1              Bulbasaur    Grass  Poison    318  45      49       49   \n",
       "1      2                Ivysaur    Grass  Poison    405  60      62       63   \n",
       "2      3               Venusaur    Grass  Poison    525  80      82       83   \n",
       "3      3  VenusaurMega Venusaur    Grass  Poison    625  80     100      123   \n",
       "4      4             Charmander     Fire     NaN    309  39      52       43   \n",
       "..   ...                    ...      ...     ...    ...  ..     ...      ...   \n",
       "795  719                Diancie     Rock   Fairy    600  50     100      150   \n",
       "796  719    DiancieMega Diancie     Rock   Fairy    700  50     160      110   \n",
       "797  720    HoopaHoopa Confined  Psychic   Ghost    600  80     110       60   \n",
       "798  720     HoopaHoopa Unbound  Psychic    Dark    680  80     160       60   \n",
       "799  721              Volcanion     Fire   Water    600  80     110      120   \n",
       "\n",
       "     Sp. Atk  Sp. Def  Speed  Generation  Legendary  \n",
       "0         65       65     45           1      False  \n",
       "1         80       80     60           1      False  \n",
       "2        100      100     80           1      False  \n",
       "3        122      120     80           1      False  \n",
       "4         60       50     65           1      False  \n",
       "..       ...      ...    ...         ...        ...  \n",
       "795      100      150     50           6       True  \n",
       "796      160      110    110           6       True  \n",
       "797      150      130     70           6       True  \n",
       "798      170      130     80           6       True  \n",
       "799      130       90     70           6       True  \n",
       "\n",
       "[800 rows x 13 columns]>"
      ]
     },
     "execution_count": 23,
     "metadata": {},
     "output_type": "execute_result"
    }
   ],
   "source": [
    "pokemon_df.isna   #Missing numbers in Pokemon data frame"
   ]
  },
  {
   "cell_type": "code",
   "execution_count": 79,
   "metadata": {
    "scrolled": true
   },
   "outputs": [
    {
     "data": {
      "text/plain": [
       "<bound method DataFrame.isna of        #                   Name   Type 1  Type 2  Total    HP  Attack  \\\n",
       "0      1              Bulbasaur    Grass  Poison    318  45.0      49   \n",
       "1      2                Ivysaur    Grass  Poison    405  60.0      62   \n",
       "2      3               Venusaur    Grass  Poison    525  80.0      82   \n",
       "3      3  VenusaurMega Venusaur    Grass  Poison    625  80.0     100   \n",
       "4      4             Charmander     Fire     NaN    309  39.0      52   \n",
       "..   ...                    ...      ...     ...    ...   ...     ...   \n",
       "795  719                Diancie     Rock   Fairy    600  50.0     100   \n",
       "796  719    DiancieMega Diancie     Rock   Fairy    700  50.0     160   \n",
       "797  720    HoopaHoopa Confined  Psychic   Ghost    600  80.0     110   \n",
       "798  720     HoopaHoopa Unbound  Psychic    Dark    680  80.0     160   \n",
       "799  721              Volcanion     Fire   Water    600  80.0     110   \n",
       "\n",
       "     Defense  Sp. Atk  Sp. Def  Speed  Generation  Legendary  \n",
       "0       49.0       65     65.0   45.0           1      False  \n",
       "1       63.0       80     80.0   60.0           1      False  \n",
       "2       83.0      100    100.0   80.0           1      False  \n",
       "3      123.0      122    120.0   80.0           1      False  \n",
       "4       43.0       60     50.0   65.0           1      False  \n",
       "..       ...      ...      ...    ...         ...        ...  \n",
       "795    150.0      100    150.0   50.0           6       True  \n",
       "796    110.0      160    110.0  110.0           6       True  \n",
       "797     60.0      150    130.0   70.0           6       True  \n",
       "798     60.0      170    130.0   80.0           6       True  \n",
       "799    120.0      130     90.0   70.0           6       True  \n",
       "\n",
       "[800 rows x 13 columns]>"
      ]
     },
     "execution_count": 79,
     "metadata": {},
     "output_type": "execute_result"
    }
   ],
   "source": [
    "pokemonsbg_df.isna       #Missing numbers in Pokemon Sabotage data frame"
   ]
  },
  {
   "cell_type": "markdown",
   "metadata": {},
   "source": [
    "Exercise 3: Two of the main ways to deal with missing data is [pd.dropna](https://pandas.pydata.org/docs/reference/api/pandas.DataFrame.dropna.html) and [pd.fillna](https://pandas.pydata.org/docs/reference/api/pandas.DataFrame.fillna.html). How are these methods different from each other in how they deal with the missing data? Which, if any, would you use on the dataset? Why?"
   ]
  },
  {
   "cell_type": "code",
   "execution_count": 117,
   "metadata": {},
   "outputs": [],
   "source": [
    "#ANSWER: the difference between pd.dropna and pd.fillna. is that pd.dropna deletes all the rows that contain a NaN or Null value,\n",
    "# while pd.fillna replaces those NaN or Null values with a given value set by us. \n",
    "# Personally, I think removing entire rows just because one single value is NaN or Null might cause us a significant loss of \n",
    "#information, specially if we have many entries with such values. For this reason, I'd rather use pd.fillna on the dataset, setting \n",
    "#the mean value of the whole column as its argument so it will not change the central tendency measures. \n",
    "# Of course, this decision will mostly depend on what we are asked to do with the data and the specific questions we want to draw    \n",
    "# from it."
   ]
  },
  {
   "cell_type": "markdown",
   "metadata": {},
   "source": [
    "From now on we will only be working with the main (non sabotaged dataframe).<br>\n",
    "\n",
    "Exercise 4: to free up memory delete the sabotaged dataframe. Bonus: before deleting find a way to check how much space in memory the dataframes occupy. [hint](https://stackoverflow.com/questions/449560/how-do-i-determine-the-size-of-an-object-in-python)"
   ]
  },
  {
   "cell_type": "code",
   "execution_count": 24,
   "metadata": {},
   "outputs": [
    {
     "data": {
      "text/plain": [
       "(199279, 199405)"
      ]
     },
     "execution_count": 24,
     "metadata": {},
     "output_type": "execute_result"
    }
   ],
   "source": [
    "import sys\n",
    "x = pokemonsbg_df\n",
    "y = pokemon_df\n",
    "sys.getsizeof(x) , sys.getsizeof(y) #Pokemon sabotage df occupies 199.270 bits, Pokemon df occupies 199.405 bits"
   ]
  },
  {
   "cell_type": "code",
   "execution_count": 25,
   "metadata": {},
   "outputs": [],
   "source": [
    "del pokemonsbg_df"
   ]
  },
  {
   "cell_type": "markdown",
   "metadata": {},
   "source": [
    "Exercise 5: Create a new column that contains the sum of the Attack, speed and defense stats."
   ]
  },
  {
   "cell_type": "code",
   "execution_count": 27,
   "metadata": {},
   "outputs": [
    {
     "data": {
      "text/html": [
       "<div>\n",
       "<style scoped>\n",
       "    .dataframe tbody tr th:only-of-type {\n",
       "        vertical-align: middle;\n",
       "    }\n",
       "\n",
       "    .dataframe tbody tr th {\n",
       "        vertical-align: top;\n",
       "    }\n",
       "\n",
       "    .dataframe thead th {\n",
       "        text-align: right;\n",
       "    }\n",
       "</style>\n",
       "<table border=\"1\" class=\"dataframe\">\n",
       "  <thead>\n",
       "    <tr style=\"text-align: right;\">\n",
       "      <th></th>\n",
       "      <th>#</th>\n",
       "      <th>Name</th>\n",
       "      <th>Type 1</th>\n",
       "      <th>Type 2</th>\n",
       "      <th>Total</th>\n",
       "      <th>HP</th>\n",
       "      <th>Attack</th>\n",
       "      <th>Defense</th>\n",
       "      <th>Sp. Atk</th>\n",
       "      <th>Sp. Def</th>\n",
       "      <th>Speed</th>\n",
       "      <th>Generation</th>\n",
       "      <th>Legendary</th>\n",
       "      <th>Attack+Speed+Def</th>\n",
       "    </tr>\n",
       "  </thead>\n",
       "  <tbody>\n",
       "    <tr>\n",
       "      <th>0</th>\n",
       "      <td>1</td>\n",
       "      <td>Bulbasaur</td>\n",
       "      <td>Grass</td>\n",
       "      <td>Poison</td>\n",
       "      <td>318</td>\n",
       "      <td>45</td>\n",
       "      <td>49</td>\n",
       "      <td>49</td>\n",
       "      <td>65</td>\n",
       "      <td>65</td>\n",
       "      <td>45</td>\n",
       "      <td>1</td>\n",
       "      <td>False</td>\n",
       "      <td>143</td>\n",
       "    </tr>\n",
       "    <tr>\n",
       "      <th>1</th>\n",
       "      <td>2</td>\n",
       "      <td>Ivysaur</td>\n",
       "      <td>Grass</td>\n",
       "      <td>Poison</td>\n",
       "      <td>405</td>\n",
       "      <td>60</td>\n",
       "      <td>62</td>\n",
       "      <td>63</td>\n",
       "      <td>80</td>\n",
       "      <td>80</td>\n",
       "      <td>60</td>\n",
       "      <td>1</td>\n",
       "      <td>False</td>\n",
       "      <td>185</td>\n",
       "    </tr>\n",
       "    <tr>\n",
       "      <th>2</th>\n",
       "      <td>3</td>\n",
       "      <td>Venusaur</td>\n",
       "      <td>Grass</td>\n",
       "      <td>Poison</td>\n",
       "      <td>525</td>\n",
       "      <td>80</td>\n",
       "      <td>82</td>\n",
       "      <td>83</td>\n",
       "      <td>100</td>\n",
       "      <td>100</td>\n",
       "      <td>80</td>\n",
       "      <td>1</td>\n",
       "      <td>False</td>\n",
       "      <td>245</td>\n",
       "    </tr>\n",
       "    <tr>\n",
       "      <th>3</th>\n",
       "      <td>3</td>\n",
       "      <td>VenusaurMega Venusaur</td>\n",
       "      <td>Grass</td>\n",
       "      <td>Poison</td>\n",
       "      <td>625</td>\n",
       "      <td>80</td>\n",
       "      <td>100</td>\n",
       "      <td>123</td>\n",
       "      <td>122</td>\n",
       "      <td>120</td>\n",
       "      <td>80</td>\n",
       "      <td>1</td>\n",
       "      <td>False</td>\n",
       "      <td>303</td>\n",
       "    </tr>\n",
       "    <tr>\n",
       "      <th>4</th>\n",
       "      <td>4</td>\n",
       "      <td>Charmander</td>\n",
       "      <td>Fire</td>\n",
       "      <td>NaN</td>\n",
       "      <td>309</td>\n",
       "      <td>39</td>\n",
       "      <td>52</td>\n",
       "      <td>43</td>\n",
       "      <td>60</td>\n",
       "      <td>50</td>\n",
       "      <td>65</td>\n",
       "      <td>1</td>\n",
       "      <td>False</td>\n",
       "      <td>160</td>\n",
       "    </tr>\n",
       "    <tr>\n",
       "      <th>...</th>\n",
       "      <td>...</td>\n",
       "      <td>...</td>\n",
       "      <td>...</td>\n",
       "      <td>...</td>\n",
       "      <td>...</td>\n",
       "      <td>...</td>\n",
       "      <td>...</td>\n",
       "      <td>...</td>\n",
       "      <td>...</td>\n",
       "      <td>...</td>\n",
       "      <td>...</td>\n",
       "      <td>...</td>\n",
       "      <td>...</td>\n",
       "      <td>...</td>\n",
       "    </tr>\n",
       "    <tr>\n",
       "      <th>795</th>\n",
       "      <td>719</td>\n",
       "      <td>Diancie</td>\n",
       "      <td>Rock</td>\n",
       "      <td>Fairy</td>\n",
       "      <td>600</td>\n",
       "      <td>50</td>\n",
       "      <td>100</td>\n",
       "      <td>150</td>\n",
       "      <td>100</td>\n",
       "      <td>150</td>\n",
       "      <td>50</td>\n",
       "      <td>6</td>\n",
       "      <td>True</td>\n",
       "      <td>300</td>\n",
       "    </tr>\n",
       "    <tr>\n",
       "      <th>796</th>\n",
       "      <td>719</td>\n",
       "      <td>DiancieMega Diancie</td>\n",
       "      <td>Rock</td>\n",
       "      <td>Fairy</td>\n",
       "      <td>700</td>\n",
       "      <td>50</td>\n",
       "      <td>160</td>\n",
       "      <td>110</td>\n",
       "      <td>160</td>\n",
       "      <td>110</td>\n",
       "      <td>110</td>\n",
       "      <td>6</td>\n",
       "      <td>True</td>\n",
       "      <td>380</td>\n",
       "    </tr>\n",
       "    <tr>\n",
       "      <th>797</th>\n",
       "      <td>720</td>\n",
       "      <td>HoopaHoopa Confined</td>\n",
       "      <td>Psychic</td>\n",
       "      <td>Ghost</td>\n",
       "      <td>600</td>\n",
       "      <td>80</td>\n",
       "      <td>110</td>\n",
       "      <td>60</td>\n",
       "      <td>150</td>\n",
       "      <td>130</td>\n",
       "      <td>70</td>\n",
       "      <td>6</td>\n",
       "      <td>True</td>\n",
       "      <td>240</td>\n",
       "    </tr>\n",
       "    <tr>\n",
       "      <th>798</th>\n",
       "      <td>720</td>\n",
       "      <td>HoopaHoopa Unbound</td>\n",
       "      <td>Psychic</td>\n",
       "      <td>Dark</td>\n",
       "      <td>680</td>\n",
       "      <td>80</td>\n",
       "      <td>160</td>\n",
       "      <td>60</td>\n",
       "      <td>170</td>\n",
       "      <td>130</td>\n",
       "      <td>80</td>\n",
       "      <td>6</td>\n",
       "      <td>True</td>\n",
       "      <td>300</td>\n",
       "    </tr>\n",
       "    <tr>\n",
       "      <th>799</th>\n",
       "      <td>721</td>\n",
       "      <td>Volcanion</td>\n",
       "      <td>Fire</td>\n",
       "      <td>Water</td>\n",
       "      <td>600</td>\n",
       "      <td>80</td>\n",
       "      <td>110</td>\n",
       "      <td>120</td>\n",
       "      <td>130</td>\n",
       "      <td>90</td>\n",
       "      <td>70</td>\n",
       "      <td>6</td>\n",
       "      <td>True</td>\n",
       "      <td>300</td>\n",
       "    </tr>\n",
       "  </tbody>\n",
       "</table>\n",
       "<p>800 rows × 14 columns</p>\n",
       "</div>"
      ],
      "text/plain": [
       "       #                   Name   Type 1  Type 2  Total  HP  Attack  Defense  \\\n",
       "0      1              Bulbasaur    Grass  Poison    318  45      49       49   \n",
       "1      2                Ivysaur    Grass  Poison    405  60      62       63   \n",
       "2      3               Venusaur    Grass  Poison    525  80      82       83   \n",
       "3      3  VenusaurMega Venusaur    Grass  Poison    625  80     100      123   \n",
       "4      4             Charmander     Fire     NaN    309  39      52       43   \n",
       "..   ...                    ...      ...     ...    ...  ..     ...      ...   \n",
       "795  719                Diancie     Rock   Fairy    600  50     100      150   \n",
       "796  719    DiancieMega Diancie     Rock   Fairy    700  50     160      110   \n",
       "797  720    HoopaHoopa Confined  Psychic   Ghost    600  80     110       60   \n",
       "798  720     HoopaHoopa Unbound  Psychic    Dark    680  80     160       60   \n",
       "799  721              Volcanion     Fire   Water    600  80     110      120   \n",
       "\n",
       "     Sp. Atk  Sp. Def  Speed  Generation  Legendary  Attack+Speed+Def  \n",
       "0         65       65     45           1      False               143  \n",
       "1         80       80     60           1      False               185  \n",
       "2        100      100     80           1      False               245  \n",
       "3        122      120     80           1      False               303  \n",
       "4         60       50     65           1      False               160  \n",
       "..       ...      ...    ...         ...        ...               ...  \n",
       "795      100      150     50           6       True               300  \n",
       "796      160      110    110           6       True               380  \n",
       "797      150      130     70           6       True               240  \n",
       "798      170      130     80           6       True               300  \n",
       "799      130       90     70           6       True               300  \n",
       "\n",
       "[800 rows x 14 columns]"
      ]
     },
     "execution_count": 27,
     "metadata": {},
     "output_type": "execute_result"
    }
   ],
   "source": [
    "pokemon_df['Attack+Speed+Def'] = pokemon_df['Attack']+pokemon_df['Speed']+pokemon_df['Defense']\n",
    "pokemon_df"
   ]
  },
  {
   "cell_type": "markdown",
   "metadata": {},
   "source": [
    "Exercise 6: Find out the mean value of the attack, speed, defense columns and the new column that was created above."
   ]
  },
  {
   "cell_type": "code",
   "execution_count": 35,
   "metadata": {},
   "outputs": [
    {
     "data": {
      "text/plain": [
       "Attack               79.00125\n",
       "Speed                68.27750\n",
       "Defense              73.84250\n",
       "Attack+Speed+Def    221.12125\n",
       "dtype: float64"
      ]
     },
     "execution_count": 35,
     "metadata": {},
     "output_type": "execute_result"
    }
   ],
   "source": [
    "pokemon_df[['Attack','Speed','Defense','Attack+Speed+Def']].mean()"
   ]
  },
  {
   "cell_type": "markdown",
   "metadata": {},
   "source": [
    "Exercise 7: Find out how many pokemon have above average stats in the attack, speed, defense and the new column. Bonus: Do the pokemon with above average stats have a preffered type?"
   ]
  },
  {
   "cell_type": "code",
   "execution_count": 69,
   "metadata": {},
   "outputs": [
    {
     "data": {
      "text/plain": [
       "<bound method DataFrame.value_counts of        #                       Name   Type 1  Type 2  Total  HP  Attack  \\\n",
       "2      3                   Venusaur    Grass  Poison    525  80      82   \n",
       "3      3      VenusaurMega Venusaur    Grass  Poison    625  80     100   \n",
       "6      6                  Charizard     Fire  Flying    534  78      84   \n",
       "7      6  CharizardMega Charizard X     Fire  Dragon    634  78     130   \n",
       "8      6  CharizardMega Charizard Y     Fire  Flying    634  78     104   \n",
       "..   ...                        ...      ...     ...    ...  ..     ...   \n",
       "795  719                    Diancie     Rock   Fairy    600  50     100   \n",
       "796  719        DiancieMega Diancie     Rock   Fairy    700  50     160   \n",
       "797  720        HoopaHoopa Confined  Psychic   Ghost    600  80     110   \n",
       "798  720         HoopaHoopa Unbound  Psychic    Dark    680  80     160   \n",
       "799  721                  Volcanion     Fire   Water    600  80     110   \n",
       "\n",
       "     Defense  Sp. Atk  Sp. Def  Speed  Generation  Legendary  Attack+Speed+Def  \n",
       "2         83      100      100     80           1      False               245  \n",
       "3        123      122      120     80           1      False               303  \n",
       "6         78      109       85    100           1      False               262  \n",
       "7        111      130       85    100           1      False               341  \n",
       "8         78      159      115    100           1      False               282  \n",
       "..       ...      ...      ...    ...         ...        ...               ...  \n",
       "795      150      100      150     50           6       True               300  \n",
       "796      110      160      110    110           6       True               380  \n",
       "797       60      150      130     70           6       True               240  \n",
       "798       60      170      130     80           6       True               300  \n",
       "799      120      130       90     70           6       True               300  \n",
       "\n",
       "[378 rows x 14 columns]>"
      ]
     },
     "execution_count": 69,
     "metadata": {},
     "output_type": "execute_result"
    }
   ],
   "source": [
    "pokemon_df[pokemon_df['Attack'] > 79.00125].value_counts"
   ]
  },
  {
   "cell_type": "code",
   "execution_count": 70,
   "metadata": {
    "scrolled": true
   },
   "outputs": [
    {
     "data": {
      "text/plain": [
       "<bound method DataFrame.value_counts of        #                       Name   Type 1  Type 2  Total   HP  Attack  \\\n",
       "2      3                   Venusaur    Grass  Poison    525   80      82   \n",
       "3      3      VenusaurMega Venusaur    Grass  Poison    625   80     100   \n",
       "5      5                 Charmeleon     Fire     NaN    405   58      64   \n",
       "6      6                  Charizard     Fire  Flying    534   78      84   \n",
       "7      6  CharizardMega Charizard X     Fire  Dragon    634   78     130   \n",
       "..   ...                        ...      ...     ...    ...  ...     ...   \n",
       "794  718           Zygarde50% Forme   Dragon  Ground    600  108     100   \n",
       "796  719        DiancieMega Diancie     Rock   Fairy    700   50     160   \n",
       "797  720        HoopaHoopa Confined  Psychic   Ghost    600   80     110   \n",
       "798  720         HoopaHoopa Unbound  Psychic    Dark    680   80     160   \n",
       "799  721                  Volcanion     Fire   Water    600   80     110   \n",
       "\n",
       "     Defense  Sp. Atk  Sp. Def  Speed  Generation  Legendary  Attack+Speed+Def  \n",
       "2         83      100      100     80           1      False               245  \n",
       "3        123      122      120     80           1      False               303  \n",
       "5         58       80       65     80           1      False               202  \n",
       "6         78      109       85    100           1      False               262  \n",
       "7        111      130       85    100           1      False               341  \n",
       "..       ...      ...      ...    ...         ...        ...               ...  \n",
       "794      121       81       95     95           6       True               316  \n",
       "796      110      160      110    110           6       True               380  \n",
       "797       60      150      130     70           6       True               240  \n",
       "798       60      170      130     80           6       True               300  \n",
       "799      120      130       90     70           6       True               300  \n",
       "\n",
       "[376 rows x 14 columns]>"
      ]
     },
     "execution_count": 70,
     "metadata": {},
     "output_type": "execute_result"
    }
   ],
   "source": [
    "pokemon_df[pokemon_df['Speed'] > 68.27750].value_counts"
   ]
  },
  {
   "cell_type": "code",
   "execution_count": 73,
   "metadata": {
    "scrolled": true
   },
   "outputs": [
    {
     "data": {
      "text/plain": [
       "<bound method DataFrame.value_counts of        #                       Name  Type 1  Type 2  Total   HP  Attack  \\\n",
       "2      3                   Venusaur   Grass  Poison    525   80      82   \n",
       "3      3      VenusaurMega Venusaur   Grass  Poison    625   80     100   \n",
       "6      6                  Charizard    Fire  Flying    534   78      84   \n",
       "7      6  CharizardMega Charizard X    Fire  Dragon    634   78     130   \n",
       "8      6  CharizardMega Charizard Y    Fire  Flying    634   78     104   \n",
       "..   ...                        ...     ...     ...    ...  ...     ...   \n",
       "793  717                    Yveltal    Dark  Flying    680  126     131   \n",
       "794  718           Zygarde50% Forme  Dragon  Ground    600  108     100   \n",
       "795  719                    Diancie    Rock   Fairy    600   50     100   \n",
       "796  719        DiancieMega Diancie    Rock   Fairy    700   50     160   \n",
       "799  721                  Volcanion    Fire   Water    600   80     110   \n",
       "\n",
       "     Defense  Sp. Atk  Sp. Def  Speed  Generation  Legendary  Attack+Speed+Def  \n",
       "2         83      100      100     80           1      False               245  \n",
       "3        123      122      120     80           1      False               303  \n",
       "6         78      109       85    100           1      False               262  \n",
       "7        111      130       85    100           1      False               341  \n",
       "8         78      159      115    100           1      False               282  \n",
       "..       ...      ...      ...    ...         ...        ...               ...  \n",
       "793       95      131       98     99           6       True               325  \n",
       "794      121       81       95     95           6       True               316  \n",
       "795      150      100      150     50           6       True               300  \n",
       "796      110      160      110    110           6       True               380  \n",
       "799      120      130       90     70           6       True               300  \n",
       "\n",
       "[352 rows x 14 columns]>"
      ]
     },
     "execution_count": 73,
     "metadata": {},
     "output_type": "execute_result"
    }
   ],
   "source": [
    "pokemon_df[pokemon_df['Defense'] > 73.84250].value_counts"
   ]
  },
  {
   "cell_type": "code",
   "execution_count": 74,
   "metadata": {},
   "outputs": [
    {
     "data": {
      "text/plain": [
       "<bound method DataFrame.value_counts of        #                       Name   Type 1  Type 2  Total  HP  Attack  \\\n",
       "2      3                   Venusaur    Grass  Poison    525  80      82   \n",
       "3      3      VenusaurMega Venusaur    Grass  Poison    625  80     100   \n",
       "6      6                  Charizard     Fire  Flying    534  78      84   \n",
       "7      6  CharizardMega Charizard X     Fire  Dragon    634  78     130   \n",
       "8      6  CharizardMega Charizard Y     Fire  Flying    634  78     104   \n",
       "..   ...                        ...      ...     ...    ...  ..     ...   \n",
       "795  719                    Diancie     Rock   Fairy    600  50     100   \n",
       "796  719        DiancieMega Diancie     Rock   Fairy    700  50     160   \n",
       "797  720        HoopaHoopa Confined  Psychic   Ghost    600  80     110   \n",
       "798  720         HoopaHoopa Unbound  Psychic    Dark    680  80     160   \n",
       "799  721                  Volcanion     Fire   Water    600  80     110   \n",
       "\n",
       "     Defense  Sp. Atk  Sp. Def  Speed  Generation  Legendary  Attack+Speed+Def  \n",
       "2         83      100      100     80           1      False               245  \n",
       "3        123      122      120     80           1      False               303  \n",
       "6         78      109       85    100           1      False               262  \n",
       "7        111      130       85    100           1      False               341  \n",
       "8         78      159      115    100           1      False               282  \n",
       "..       ...      ...      ...    ...         ...        ...               ...  \n",
       "795      150      100      150     50           6       True               300  \n",
       "796      110      160      110    110           6       True               380  \n",
       "797       60      150      130     70           6       True               240  \n",
       "798       60      170      130     80           6       True               300  \n",
       "799      120      130       90     70           6       True               300  \n",
       "\n",
       "[390 rows x 14 columns]>"
      ]
     },
     "execution_count": 74,
     "metadata": {},
     "output_type": "execute_result"
    }
   ],
   "source": [
    "pokemon_df[pokemon_df['Attack+Speed+Def'] > 221.12125].value_counts    "
   ]
  },
  {
   "cell_type": "code",
   "execution_count": 84,
   "metadata": {},
   "outputs": [],
   "source": [
    "column_Attack = pokemon_df['Attack']\n",
    "column_speed = pokemon_df['Speed']\n",
    "column_defense = pokemon_df['Defense']\n",
    "column_AttackSpeedDef = pokemon_df['Attack+Speed+Def'] "
   ]
  },
  {
   "cell_type": "code",
   "execution_count": 85,
   "metadata": {},
   "outputs": [
    {
     "data": {
      "text/plain": [
       "378"
      ]
     },
     "execution_count": 85,
     "metadata": {},
     "output_type": "execute_result"
    }
   ],
   "source": [
    "#Other way to count the number of Pokemons with above-average stats in the attack, speed,defense and the Attack+Speed+Def column \n",
    "#could be:\n",
    "count_attack = column_Attack[column_Attack > 79.00125].count()\n",
    "count"
   ]
  },
  {
   "cell_type": "code",
   "execution_count": 97,
   "metadata": {},
   "outputs": [
    {
     "data": {
      "text/plain": [
       "376"
      ]
     },
     "execution_count": 97,
     "metadata": {},
     "output_type": "execute_result"
    }
   ],
   "source": [
    "count_speed=column_speed[column_speed> 68.27750].count()\n",
    "count_speed"
   ]
  },
  {
   "cell_type": "code",
   "execution_count": 99,
   "metadata": {
    "scrolled": true
   },
   "outputs": [
    {
     "data": {
      "text/plain": [
       "352"
      ]
     },
     "execution_count": 99,
     "metadata": {},
     "output_type": "execute_result"
    }
   ],
   "source": [
    "count_defense=column_defense[column_defense> 73.84250].count()\n",
    "count_defense"
   ]
  },
  {
   "cell_type": "code",
   "execution_count": 100,
   "metadata": {
    "scrolled": true
   },
   "outputs": [
    {
     "data": {
      "text/plain": [
       "390"
      ]
     },
     "execution_count": 100,
     "metadata": {},
     "output_type": "execute_result"
    }
   ],
   "source": [
    "count_AttackSpeedDef=column_AttackSpeedDef[column_AttackSpeedDef> 221.12125].count()\n",
    "count_AttackSpeedDef"
   ]
  },
  {
   "cell_type": "markdown",
   "metadata": {},
   "source": [
    "Super bonus: There are many platforms out there that contain different tools to boost your learning. Then for the super bonus create an account on [kaggle](https://www.kaggle.com/) and complete the courses\n",
    "[intro to programming](https://www.kaggle.com/learn/intro-to-programming) and [intro to python](https://www.kaggle.com/learn/python) courses. All kaggle courses are free of charge and offer a [certificate](https://www.kaggle.com/learn-course-certificates) !"
   ]
  },
  {
   "cell_type": "code",
   "execution_count": 118,
   "metadata": {},
   "outputs": [],
   "source": [
    "#registered and started: Intro to programming! :)"
   ]
  }
 ],
 "metadata": {
  "kernelspec": {
   "display_name": "Python 3 (ipykernel)",
   "language": "python",
   "name": "python3"
  },
  "language_info": {
   "codemirror_mode": {
    "name": "ipython",
    "version": 3
   },
   "file_extension": ".py",
   "mimetype": "text/x-python",
   "name": "python",
   "nbconvert_exporter": "python",
   "pygments_lexer": "ipython3",
   "version": "3.9.12"
  }
 },
 "nbformat": 4,
 "nbformat_minor": 4
}
