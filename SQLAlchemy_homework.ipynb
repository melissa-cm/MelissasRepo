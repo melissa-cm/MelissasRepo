{
 "cells": [
  {
   "cell_type": "markdown",
   "metadata": {},
   "source": [
    "<h1>Databases homework</h1>\n",
    "\n",
    "The homework for this week is to create and work with your own database. For that you should:\n",
    "- Choose a dataset to work with (I personally recommend the pokemon dataset);\n",
    "- Create your database schema using one of the available tools online such as [dbdiagram](https://dbdiagram.io/) (or, any other tool you prefer);\n",
    "- Create the database using SQLAlchemy and demonstrate that you can use it by adding, querying, updating and deleting data.\n",
    "\n",
    "Bonus points: parse the entire csv you're working the database format BUT it is strictly forbidden to do that manually, i.e., WITHOUT using a loop (which, quite frankly, is madness).\n"
   ]
  },
  {
   "cell_type": "code",
   "execution_count": 15,
   "metadata": {},
   "outputs": [],
   "source": [
    "#Imports\n",
    "\n",
    "import os\n",
    "import sys\n",
    "from sqlalchemy import Column, ForeignKey, Integer, String, Boolean\n",
    "from sqlalchemy.ext.declarative import declarative_base\n",
    "from sqlalchemy.orm import relationship\n",
    "from sqlalchemy import create_engine"
   ]
  },
  {
   "cell_type": "code",
   "execution_count": 2,
   "metadata": {},
   "outputs": [],
   "source": [
    "Base = declarative_base()\n",
    "\n",
    "class UKR_refugee(Base):\n",
    "    __tablename__ = 'refugees'\n",
    "    # Here we define columns for the table refugees\n",
    "    # Notice that each column is also a normal Python instance attribute.\n",
    "    id = Column(Integer, primary_key=True)\n",
    "    country = Column(String(50), nullable=False)\n",
    "\n",
    "class Attributes(Base):\n",
    "    __tablename__ = 'attributes'\n",
    "    id = Column(Integer, primary_key=True)\n",
    "    date = Column(String(50), nullable=False)\n",
    "    individuals = Column(Integer, nullable=False)\n",
    "    #pokemon_id = Column(Integer, ForeignKey('pokemon.id'))\n",
    "    #Pokemon = relationship(Pokemon)\n",
    "\n",
    "# Create an engine that stores data in the local directory's\n",
    "# sqlalchemy_example.db file.\n",
    "engine = create_engine('sqlite:///refugees.db')\n",
    "\n",
    "# Create all tables in the engine. This is equivalent to \"Create Table\"\n",
    "# statements in raw SQL.\n",
    "Base.metadata.create_all(engine)"
   ]
  },
  {
   "cell_type": "code",
   "execution_count": 3,
   "metadata": {},
   "outputs": [
    {
     "data": {
      "text/plain": [
       "'C:\\\\Users\\\\melis\\\\Documents\\\\MelissasRepo'"
      ]
     },
     "execution_count": 3,
     "metadata": {},
     "output_type": "execute_result"
    }
   ],
   "source": [
    "pwd"
   ]
  },
  {
   "cell_type": "code",
   "execution_count": 4,
   "metadata": {},
   "outputs": [
    {
     "data": {
      "text/plain": [
       "__main__.UKR_refugee"
      ]
     },
     "execution_count": 4,
     "metadata": {},
     "output_type": "execute_result"
    }
   ],
   "source": [
    "# Having a peek at the object we created.\n",
    "UKR_refugee"
   ]
  },
  {
   "cell_type": "code",
   "execution_count": 5,
   "metadata": {},
   "outputs": [],
   "source": [
    "#Database session\n",
    "from sqlalchemy import create_engine\n",
    "from sqlalchemy.orm import sessionmaker\n",
    "\n",
    "#from sqlalchemy_declarative import Attributes, Base, Pokemon\n",
    "\n",
    "# Notice we're using SQLite here.\n",
    "# This line will create the database if it isn't there already.\n",
    "engine = create_engine('sqlite:///refugees.db')\n",
    "# Bind the engine to the metadata of the Base class so that the\n",
    "# declaratives can be accessed through a DBSession instance\n",
    "Base.metadata.bind = engine\n",
    "\n",
    "DBSession = sessionmaker(bind=engine)\n",
    "# A DBSession() instance establishes all conversations with the database\n",
    "# and represents a \"staging zone\" for all the objects loaded into the\n",
    "# database session object. Any change made against the objects in the\n",
    "# session won't be persisted into the database until you call\n",
    "# session.commit(). If you're not happy about the changes, you can\n",
    "# revert all of them back to the last commit by calling\n",
    "# session.rollback()\n",
    "session = DBSession()"
   ]
  },
  {
   "cell_type": "code",
   "execution_count": 6,
   "metadata": {},
   "outputs": [],
   "source": [
    "# Insert a data entry\n",
    "new_entry = UKR_refugee(country='Poland')\n",
    "session.add(new_entry)\n",
    "session.commit()"
   ]
  },
  {
   "cell_type": "code",
   "execution_count": 7,
   "metadata": {},
   "outputs": [],
   "source": [
    "id = Column(Integer, primary_key=True)\n",
    "date = Column(String(50), nullable=False)\n",
    "individuals = Column(Integer, nullable=False)"
   ]
  },
  {
   "cell_type": "code",
   "execution_count": 8,
   "metadata": {},
   "outputs": [],
   "source": [
    "# Insert Attributes\n",
    "new_type = Attributes(date='06/09/2022',\n",
    "                      individuals=5951510)\n",
    "session.add(new_type)\n",
    "session.commit()"
   ]
  },
  {
   "cell_type": "code",
   "execution_count": 16,
   "metadata": {},
   "outputs": [],
   "source": [
    "from numpy import genfromtxt\n",
    "from time import time\n",
    "from datetime import datetime\n",
    "from sqlalchemy import Column, Integer, Float, Date\n",
    "from sqlalchemy.ext.declarative import declarative_base\n",
    "from sqlalchemy import create_engine\n",
    "from sqlalchemy.orm import sessionmaker\n",
    "\n",
    "def Load_Data(UKR_refugee):\n",
    "    data = genfromtxt(UKR_refuge, delimiter=',', skip_header=1, converters={0: lambda s: str(s)})\n",
    "    return data.tolist()\n",
    "\n",
    "Base = declarative_base()\n",
    "\n",
    "class UKR_refugees(Base):\n",
    "    #Tell SQLAlchemy what the table name is and if there's any table-specific arguments it should know about\n",
    "    __tablename__ = 'UKR_refugees'\n",
    "    __table_args__ = {'sqlite_autoincrement': True}\n",
    "    #tell SQLAlchemy the name of column and its attributes:\n",
    "    date = Column(String(50), nullable=False)\n",
    "    id = Column(Integer, primary_key=True)\n",
    "    individuals = Column(Integer, nullable=False)\n",
    "\n",
    "if __name__ == \"__main__\":\n",
    "    t = time()\n",
    "\n",
    "    #Create the database\n",
    "    engine = create_engine('sqlite:///refugees.db')\n",
    "    Base.metadata.create_all(engine)\n",
    "\n",
    "    #Create the session\n",
    "    session = sessionmaker()\n",
    "    session.configure(bind=engine)\n",
    "    s = session()\n",
    "\n",
    "    try:\n",
    "        file_name = \"UKR_refugee\"\n",
    "        data = Load_Data(file_name) \n",
    "\n",
    "        for i in data:\n",
    "            record = UKR_refugees(**{\n",
    "                'date' : datetime.strptime(i[0], '%d-%b-%y').date(),\n",
    "                'id' : i[1],\n",
    "                'individuals' : i[2],\n",
    "            })\n",
    "            s.add(record) #Add all the records\n",
    "\n",
    "        s.commit() #Attempt to commit all the records\n",
    "    except:\n",
    "        s.rollback() #Rollback the changes on error\n",
    "    finally:\n",
    "        s.close() #Close the connection"
   ]
  },
  {
   "cell_type": "code",
   "execution_count": null,
   "metadata": {},
   "outputs": [],
   "source": [
    "# reference: https://stackoverflow.com/questions/31394998/using-sqlalchemy-to-load-csv-file-into-a-database"
   ]
  },
  {
   "cell_type": "code",
   "execution_count": 17,
   "metadata": {},
   "outputs": [],
   "source": [
    "import pandas as pd"
   ]
  },
  {
   "cell_type": "code",
   "execution_count": 18,
   "metadata": {},
   "outputs": [
    {
     "name": "stdout",
     "output_type": "stream",
     "text": [
      "     Unnamed: 0                   country               date  individuals  \\\n",
      "0             0                    Poland  06 September 2022      5951510   \n",
      "1             1        Russian Federation  05 September 2022      2490480   \n",
      "2             2                   Hungary  06 September 2022      1338276   \n",
      "3             3                   Romania  04 September 2022      1169027   \n",
      "4             4                  Slovakia  06 September 2022       757851   \n",
      "..          ...                       ...                ...          ...   \n",
      "654         654  Other European countries      01 March 2022        69600   \n",
      "655         655                  Slovakia      01 March 2022        67000   \n",
      "656         656                   Romania      01 March 2022        44540   \n",
      "657         657        Russian Federation      01 March 2022        42900   \n",
      "658         658                   Belarus      01 March 2022          341   \n",
      "\n",
      "     centroid_lon  centroid_lat    lat_max    lon_max    lan_min    lon_min  \\\n",
      "0       19.401300     52.122400  55.469506  26.401300  48.021549  12.401300   \n",
      "1       38.155608     51.488850  55.991456  40.355733  51.727742  34.812904   \n",
      "2       19.413100     47.167200  54.167200  26.588881  43.760061  12.413100   \n",
      "3       25.300000     45.866700  52.866700  32.300000  38.866700  18.300000   \n",
      "4       19.486400     48.706200  55.706200  26.486400  41.706200  12.486400   \n",
      "..            ...           ...        ...        ...        ...        ...   \n",
      "654     12.999542     49.284735  51.315890  19.828251  47.368175  14.696223   \n",
      "655     19.486400     48.706200  55.706200  26.486400  41.706200  12.486400   \n",
      "656     25.300000     45.866700  52.866700  32.300000  38.866700  18.300000   \n",
      "657     38.155608     51.488850  59.067055  36.958298  54.998769  31.669526   \n",
      "658     28.046300     53.538400  57.838934  33.727941  48.496894  21.046300   \n",
      "\n",
      "                source  \n",
      "0    UNHCR, Government  \n",
      "1    UNHCR, Government  \n",
      "2    UNHCR, Government  \n",
      "3    UNHCR, Government  \n",
      "4    UNHCR, Government  \n",
      "..                 ...  \n",
      "654                  0  \n",
      "655                  0  \n",
      "656                  0  \n",
      "657                  0  \n",
      "658                  0  \n",
      "\n",
      "[659 rows x 11 columns]\n"
     ]
    }
   ],
   "source": [
    "#test\n",
    "data = pd.read_csv (r'C:\\Users\\melis\\Documents\\MelissasRepo\\UKR_refugee.csv')\n",
    "df = pd.DataFrame(data)\n",
    "\n",
    "print(df)"
   ]
  },
  {
   "cell_type": "code",
   "execution_count": null,
   "metadata": {},
   "outputs": [],
   "source": []
  }
 ],
 "metadata": {
  "kernelspec": {
   "display_name": "Python 3 (ipykernel)",
   "language": "python",
   "name": "python3"
  },
  "language_info": {
   "codemirror_mode": {
    "name": "ipython",
    "version": 3
   },
   "file_extension": ".py",
   "mimetype": "text/x-python",
   "name": "python",
   "nbconvert_exporter": "python",
   "pygments_lexer": "ipython3",
   "version": "3.9.12"
  }
 },
 "nbformat": 4,
 "nbformat_minor": 4
}
